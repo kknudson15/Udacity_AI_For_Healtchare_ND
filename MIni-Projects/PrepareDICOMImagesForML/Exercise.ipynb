{
 "cells": [
  {
   "cell_type": "code",
   "execution_count": 1,
   "metadata": {},
   "outputs": [],
   "source": [
    "import pandas as pd\n",
    "import numpy as np\n",
    "import pydicom\n",
    "import glob"
   ]
  },
  {
   "cell_type": "code",
   "execution_count": 2,
   "metadata": {},
   "outputs": [],
   "source": [
    "## First, read all of my DICOM files into a list\n",
    "mydicoms = glob.glob(\"*.dcm\")"
   ]
  },
  {
   "cell_type": "markdown",
   "metadata": {},
   "source": [
    "### Let's look at the contents of the first DICOM:"
   ]
  },
  {
   "cell_type": "code",
   "execution_count": 3,
   "metadata": {},
   "outputs": [
    {
     "data": {
      "text/plain": [
       "(0008, 0016) SOP Class UID                       UI: Secondary Capture Image Storage\n",
       "(0008, 0018) SOP Instance UID                    UI: 1.3.6.1.4.1.11129.5.5.139539879914217162512411239901306132962191\n",
       "(0008, 0060) Modality                            CS: 'DX'\n",
       "(0008, 1030) Study Description                   LO: 'Atelectasis'\n",
       "(0010, 0020) Patient ID                          LO: '13118'\n",
       "(0010, 0040) Patient's Sex                       CS: 'M'\n",
       "(0010, 1010) Patient's Age                       AS: '69'\n",
       "(0020, 000d) Study Instance UID                  UI: 1.3.6.1.4.1.11129.5.5.120992059193772113283592409393507044871674\n",
       "(0020, 000e) Series Instance UID                 UI: 1.3.6.1.4.1.11129.5.5.110922964580080663514009950443538578354984\n",
       "(0028, 0002) Samples per Pixel                   US: 1\n",
       "(0028, 0004) Photometric Interpretation          CS: 'MONOCHROME2'\n",
       "(0028, 0010) Rows                                US: 1024\n",
       "(0028, 0011) Columns                             US: 1024\n",
       "(0028, 0100) Bits Allocated                      US: 8\n",
       "(0028, 0101) Bits Stored                         US: 8\n",
       "(0028, 0102) High Bit                            US: 7\n",
       "(0028, 0103) Pixel Representation                US: 0\n",
       "(7fe0, 0010) Pixel Data                          OW: Array of 1048576 elements"
      ]
     },
     "execution_count": 3,
     "metadata": {},
     "output_type": "execute_result"
    }
   ],
   "source": [
    "dcm1 = pydicom.dcmread(mydicoms[0])\n",
    "dcm1"
   ]
  },
  {
   "cell_type": "code",
   "execution_count": 35,
   "metadata": {},
   "outputs": [],
   "source": [
    "## Do some exploratory work before about how to extract these attributes using pydicom... \n",
    "#Patient ID - dcm1.PatientID\n",
    "#Patient Age (as an integer) int(dcm1.PatientAge)\n",
    "#Patient Sex (M/F) - dcm1.PatientSex\n",
    "#Imaging Modality - dcm1.Modality\n",
    "#Type of finding in the image - dcm1.StudyDescription\n",
    "#Number of rows in the image - dcm1.Rows\n",
    "#Number of columns in the image - dcm1.Columns"
   ]
  },
  {
   "cell_type": "markdown",
   "metadata": {},
   "source": [
    "## Now, let's create the dataframe that we want, and populate it in a loop with all of our DICOMS:\n",
    "\n",
    "To complete this exercise, create a single dataframe that has the following columns:\n",
    "- Patient ID\n",
    "- Patient Age (as an integer)\n",
    "- Patient Sex (M/F)\n",
    "- Imaging Modality\n",
    "- Type of finding in the image\n",
    "- Number of rows in the image\n",
    "- Number of columns in the image\n",
    "\n",
    "Save this dataframe as a .CSV file."
   ]
  },
  {
   "cell_type": "code",
   "execution_count": 44,
   "metadata": {},
   "outputs": [
    {
     "data": {
      "text/html": [
       "<div>\n",
       "<style scoped>\n",
       "    .dataframe tbody tr th:only-of-type {\n",
       "        vertical-align: middle;\n",
       "    }\n",
       "\n",
       "    .dataframe tbody tr th {\n",
       "        vertical-align: top;\n",
       "    }\n",
       "\n",
       "    .dataframe thead th {\n",
       "        text-align: right;\n",
       "    }\n",
       "</style>\n",
       "<table border=\"1\" class=\"dataframe\">\n",
       "  <thead>\n",
       "    <tr style=\"text-align: right;\">\n",
       "      <th></th>\n",
       "      <th>Patient ID</th>\n",
       "      <th>Patient Age</th>\n",
       "      <th>Patient Sex</th>\n",
       "      <th>Imaging Modality</th>\n",
       "      <th>Findings Type</th>\n",
       "      <th>Num of Image Rows</th>\n",
       "      <th>Num of Image Columns</th>\n",
       "    </tr>\n",
       "  </thead>\n",
       "  <tbody>\n",
       "    <tr>\n",
       "      <th>0</th>\n",
       "      <td>13118</td>\n",
       "      <td>69</td>\n",
       "      <td>M</td>\n",
       "      <td>DX</td>\n",
       "      <td>Atelectasis</td>\n",
       "      <td>1024</td>\n",
       "      <td>1024</td>\n",
       "    </tr>\n",
       "    <tr>\n",
       "      <th>1</th>\n",
       "      <td>1688</td>\n",
       "      <td>59</td>\n",
       "      <td>F</td>\n",
       "      <td>DX</td>\n",
       "      <td>Infiltration|Nodule</td>\n",
       "      <td>1024</td>\n",
       "      <td>1024</td>\n",
       "    </tr>\n",
       "    <tr>\n",
       "      <th>2</th>\n",
       "      <td>10172</td>\n",
       "      <td>59</td>\n",
       "      <td>F</td>\n",
       "      <td>DX</td>\n",
       "      <td>Atelectasis|Effusion</td>\n",
       "      <td>1024</td>\n",
       "      <td>1024</td>\n",
       "    </tr>\n",
       "    <tr>\n",
       "      <th>3</th>\n",
       "      <td>23075</td>\n",
       "      <td>31</td>\n",
       "      <td>M</td>\n",
       "      <td>DX</td>\n",
       "      <td>Mass</td>\n",
       "      <td>1024</td>\n",
       "      <td>1024</td>\n",
       "    </tr>\n",
       "    <tr>\n",
       "      <th>4</th>\n",
       "      <td>13659</td>\n",
       "      <td>62</td>\n",
       "      <td>F</td>\n",
       "      <td>DX</td>\n",
       "      <td>Consolidation|Mass|Pneumonia|Pneumothorax</td>\n",
       "      <td>1024</td>\n",
       "      <td>1024</td>\n",
       "    </tr>\n",
       "    <tr>\n",
       "      <th>5</th>\n",
       "      <td>5066</td>\n",
       "      <td>52</td>\n",
       "      <td>M</td>\n",
       "      <td>DX</td>\n",
       "      <td>Cardiomegaly|Effusion|Infiltration</td>\n",
       "      <td>1024</td>\n",
       "      <td>1024</td>\n",
       "    </tr>\n",
       "    <tr>\n",
       "      <th>6</th>\n",
       "      <td>29579</td>\n",
       "      <td>24</td>\n",
       "      <td>F</td>\n",
       "      <td>DX</td>\n",
       "      <td>Effusion|Nodule|Pleural_Thickening|Mass</td>\n",
       "      <td>1024</td>\n",
       "      <td>1024</td>\n",
       "    </tr>\n",
       "  </tbody>\n",
       "</table>\n",
       "</div>"
      ],
      "text/plain": [
       "  Patient ID Patient Age Patient Sex Imaging Modality  \\\n",
       "0      13118          69           M               DX   \n",
       "1       1688          59           F               DX   \n",
       "2      10172          59           F               DX   \n",
       "3      23075          31           M               DX   \n",
       "4      13659          62           F               DX   \n",
       "5       5066          52           M               DX   \n",
       "6      29579          24           F               DX   \n",
       "\n",
       "                               Findings Type Num of Image Rows  \\\n",
       "0                                Atelectasis              1024   \n",
       "1                        Infiltration|Nodule              1024   \n",
       "2                       Atelectasis|Effusion              1024   \n",
       "3                                       Mass              1024   \n",
       "4  Consolidation|Mass|Pneumonia|Pneumothorax              1024   \n",
       "5         Cardiomegaly|Effusion|Infiltration              1024   \n",
       "6    Effusion|Nodule|Pleural_Thickening|Mass              1024   \n",
       "\n",
       "  Num of Image Columns  \n",
       "0                 1024  \n",
       "1                 1024  \n",
       "2                 1024  \n",
       "3                 1024  \n",
       "4                 1024  \n",
       "5                 1024  \n",
       "6                 1024  "
      ]
     },
     "execution_count": 44,
     "metadata": {},
     "output_type": "execute_result"
    }
   ],
   "source": [
    "df = pd.DataFrame(columns = ['Patient ID', 'Patient Age', 'Patient Sex', 'Imaging Modality', 'Findings Type', 'Num of Image Rows', 'Num of Image Columns'])\n",
    "for i in range(len(mydicoms)):\n",
    "    dcm = pydicom.dcmread(mydicoms[i])\n",
    "    df.loc[i] = [dcm.PatientID, int(dcm.PatientAge),dcm.PatientSex,dcm.Modality,dcm.StudyDescription,dcm.Rows,dcm.Columns]\n",
    "df"
   ]
  },
  {
   "cell_type": "code",
   "execution_count": 45,
   "metadata": {},
   "outputs": [],
   "source": [
    "df.to_csv('dcm_data.csv')"
   ]
  },
  {
   "cell_type": "code",
   "execution_count": null,
   "metadata": {},
   "outputs": [],
   "source": []
  }
 ],
 "metadata": {
  "kernelspec": {
   "display_name": "Python 3",
   "language": "python",
   "name": "python3"
  },
  "language_info": {
   "codemirror_mode": {
    "name": "ipython",
    "version": 3
   },
   "file_extension": ".py",
   "mimetype": "text/x-python",
   "name": "python",
   "nbconvert_exporter": "python",
   "pygments_lexer": "ipython3",
   "version": "3.7.6"
  }
 },
 "nbformat": 4,
 "nbformat_minor": 2
}
